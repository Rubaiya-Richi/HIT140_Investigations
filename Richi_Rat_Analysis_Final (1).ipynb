{
 "cells": [
  {
   "cell_type": "markdown",
   "id": "7bb43dab",
   "metadata": {},
   "source": [
    "\n",
    "# Richi — Rat Behavior Analysis\n",
    "\n",
    "This notebook analyses **rat arrivals**, **minutes present**, and **food availability** across seasons using `dataset2.csv`.\n",
    "\n",
    "\n",
    "**Season mapping (Southern Hemisphere):**\n",
    "- **DJF = summer** (Dec–Feb)\n",
    "- **MAM = autumn** (Mar–May)\n",
    "- **JJA = winter** (Jun–Aug)\n",
    "- **SON = spring** (Sep–Nov)\n"
   ]
  },
  {
   "cell_type": "code",
   "execution_count": 1,
   "id": "757eab82",
   "metadata": {},
   "outputs": [
    {
     "name": "stdout",
     "output_type": "stream",
     "text": [
      "Note: you may need to restart the kernel to use updated packages.\n"
     ]
    }
   ],
   "source": [
    "\n",
    "# If you already have these installed, you can skip this cell.\n",
    "# In VS Code, you can also install via Terminal: pip install pandas numpy matplotlib seaborn\n",
    "%pip install -q pandas numpy matplotlib seaborn\n"
   ]
  },
  {
   "cell_type": "code",
   "execution_count": 2,
   "id": "c083c682",
   "metadata": {},
   "outputs": [],
   "source": [
    "\n",
    "import os, sys, json\n",
    "from pathlib import Path\n",
    "import numpy as np\n",
    "import pandas as pd\n",
    "import matplotlib.pyplot as plt\n",
    "\n",
    "# ---------- Configuration ----------\n",
    "# Option A (recommended): leave as None and place dataset2.csv next to this notebook.\n",
    "# Option B: put your full path here as a string, for example:\n",
    "# DATASET_PATH = r\"C:\\Users\\Richi\\Downloads\\dataset2.csv\"\n",
    "DATASET_PATH = None\n",
    "\n",
    "# ---------- Helpers ----------\n",
    "def _probable_csv_locations():\n",
    "    \"\"\"Return probable locations for dataset2.csv, including the notebook folder,\n",
    "    Downloads and Desktop on Windows/macOS/Linux.\"\"\"\n",
    "    candidates = []\n",
    "    here = Path.cwd()\n",
    "    candidates.append(here / \"dataset2.csv\")\n",
    "    # Try parent (sometimes users run from a subfolder)\n",
    "    candidates.append(here.parent / \"dataset2.csv\")\n",
    "    # Typical user folders\n",
    "    home = Path.home()\n",
    "    for sub in [\"Downloads\", \"Desktop\"]:\n",
    "        candidates.append(home / sub / \"dataset2.csv\")\n",
    "    return candidates\n",
    "\n",
    "def resolve_dataset_path():\n",
    "    \"\"\"Return a Path to dataset2.csv or raise a helpful error with instructions.\"\"\"\n",
    "    if DATASET_PATH:\n",
    "        p = Path(DATASET_PATH)\n",
    "        if p.exists():\n",
    "            return p\n",
    "        else:\n",
    "            raise FileNotFoundError(\n",
    "                f\"Could not find file at DATASET_PATH={p}. Please check the path.\"\n",
    "            )\n",
    "    # Otherwise, try common locations\n",
    "    for p in _probable_csv_locations():\n",
    "        if p.exists():\n",
    "            return p\n",
    "    raise FileNotFoundError(\n",
    "        \"dataset2.csv not found.\\n\"\n",
    "        \"👉 Fix by doing one of the following:\\n\"\n",
    "        \"   1) Move dataset2.csv into the SAME folder as this notebook, OR\\n\"\n",
    "        \"   2) Set DATASET_PATH above to the full path, e.g.\\n\"\n",
    "        r'      DATASET_PATH = r\"C:\\\\Users\\\\Richi\\\\Downloads\\\\dataset2.csv\"'\n",
    "    )\n",
    "\n",
    "def find_col(df, options, required=True):\n",
    "    \"\"\"Find the first column in df whose lowercase name matches one of the options.\n",
    "    options: list[str] of candidate names (lowercase compared)\n",
    "    If required and not found, raise a helpful error.\"\"\"\n",
    "    lower_map = {c.lower(): c for c in df.columns}\n",
    "    for opt in options:\n",
    "        if opt.lower() in lower_map:\n",
    "            return lower_map[opt.lower()]\n",
    "    if required:\n",
    "        raise KeyError(\n",
    "            \"Missing expected column. Tried any of: \"\n",
    "            + \", \".join(options)\n",
    "            + \"\\nYour columns are: \"\n",
    "            + \", \".join(map(str, df.columns))\n",
    "        )\n",
    "    return None\n",
    "\n",
    "def to_season(dt_series):\n",
    "    \"\"\"Map dates to meteorological seasons (Southern Hemisphere).\"\"\"\n",
    "    m = dt_series.dt.month\n",
    "    # DJF (Dec=12, Jan=1, Feb=2) -> Summer\n",
    "    return pd.Categorical(\n",
    "        np.select(\n",
    "            [\n",
    "                m.isin([12,1,2]),    # DJF\n",
    "                m.isin([3,4,5]),     # MAM\n",
    "                m.isin([6,7,8]),     # JJA\n",
    "                m.isin([9,10,11])    # SON\n",
    "            ],\n",
    "            [\"Summer\", \"Autumn\", \"Winter\", \"Spring\"],\n",
    "            default=\"Unknown\"\n",
    "        ),\n",
    "        categories=[\"Summer\", \"Autumn\", \"Winter\", \"Spring\", \"Unknown\"],\n",
    "        ordered=True\n",
    "    )\n"
   ]
  },
  {
   "cell_type": "code",
   "execution_count": 3,
   "id": "67fc6194",
   "metadata": {},
   "outputs": [
    {
     "name": "stdout",
     "output_type": "stream",
     "text": [
      "Using data file: c:\\Users\\Richi\\Downloads\\dataset2.csv\n",
      "Preview of data (first 5 rows):\n"
     ]
    },
    {
     "data": {
      "text/html": [
       "<div>\n",
       "<style scoped>\n",
       "    .dataframe tbody tr th:only-of-type {\n",
       "        vertical-align: middle;\n",
       "    }\n",
       "\n",
       "    .dataframe tbody tr th {\n",
       "        vertical-align: top;\n",
       "    }\n",
       "\n",
       "    .dataframe thead th {\n",
       "        text-align: right;\n",
       "    }\n",
       "</style>\n",
       "<table border=\"1\" class=\"dataframe\">\n",
       "  <thead>\n",
       "    <tr style=\"text-align: right;\">\n",
       "      <th></th>\n",
       "      <th>time</th>\n",
       "      <th>month</th>\n",
       "      <th>hours_after_sunset</th>\n",
       "      <th>bat_landing_number</th>\n",
       "      <th>food_availability</th>\n",
       "      <th>rat_minutes</th>\n",
       "      <th>rat_arrival_number</th>\n",
       "    </tr>\n",
       "  </thead>\n",
       "  <tbody>\n",
       "    <tr>\n",
       "      <th>0</th>\n",
       "      <td>26/12/2017 16:13</td>\n",
       "      <td>0</td>\n",
       "      <td>-0.5</td>\n",
       "      <td>20</td>\n",
       "      <td>4.000000</td>\n",
       "      <td>0.0</td>\n",
       "      <td>0</td>\n",
       "    </tr>\n",
       "    <tr>\n",
       "      <th>1</th>\n",
       "      <td>26/12/2017 16:43</td>\n",
       "      <td>0</td>\n",
       "      <td>0.0</td>\n",
       "      <td>28</td>\n",
       "      <td>4.000000</td>\n",
       "      <td>0.0</td>\n",
       "      <td>0</td>\n",
       "    </tr>\n",
       "    <tr>\n",
       "      <th>2</th>\n",
       "      <td>26/12/2017 17:13</td>\n",
       "      <td>0</td>\n",
       "      <td>0.5</td>\n",
       "      <td>25</td>\n",
       "      <td>4.000000</td>\n",
       "      <td>0.0</td>\n",
       "      <td>0</td>\n",
       "    </tr>\n",
       "    <tr>\n",
       "      <th>3</th>\n",
       "      <td>26/12/2017 17:43</td>\n",
       "      <td>0</td>\n",
       "      <td>1.0</td>\n",
       "      <td>71</td>\n",
       "      <td>4.000000</td>\n",
       "      <td>0.0</td>\n",
       "      <td>0</td>\n",
       "    </tr>\n",
       "    <tr>\n",
       "      <th>4</th>\n",
       "      <td>26/12/2017 18:13</td>\n",
       "      <td>0</td>\n",
       "      <td>1.5</td>\n",
       "      <td>44</td>\n",
       "      <td>3.753857</td>\n",
       "      <td>0.0</td>\n",
       "      <td>0</td>\n",
       "    </tr>\n",
       "  </tbody>\n",
       "</table>\n",
       "</div>"
      ],
      "text/plain": [
       "               time  month  hours_after_sunset  bat_landing_number  \\\n",
       "0  26/12/2017 16:13      0                -0.5                  20   \n",
       "1  26/12/2017 16:43      0                 0.0                  28   \n",
       "2  26/12/2017 17:13      0                 0.5                  25   \n",
       "3  26/12/2017 17:43      0                 1.0                  71   \n",
       "4  26/12/2017 18:13      0                 1.5                  44   \n",
       "\n",
       "   food_availability  rat_minutes  rat_arrival_number  \n",
       "0           4.000000          0.0                   0  \n",
       "1           4.000000          0.0                   0  \n",
       "2           4.000000          0.0                   0  \n",
       "3           4.000000          0.0                   0  \n",
       "4           3.753857          0.0                   0  "
      ]
     },
     "metadata": {},
     "output_type": "display_data"
    },
    {
     "name": "stdout",
     "output_type": "stream",
     "text": [
      "\n",
      "Column names:\n",
      "['time', 'month', 'hours_after_sunset', 'bat_landing_number', 'food_availability', 'rat_minutes', 'rat_arrival_number']\n"
     ]
    }
   ],
   "source": [
    "\n",
    "csv_path = resolve_dataset_path()\n",
    "print(f\"Using data file: {csv_path}\")\n",
    "\n",
    "df_raw = pd.read_csv(csv_path)\n",
    "\n",
    "print(\"Preview of data (first 5 rows):\")\n",
    "display(df_raw.head())\n",
    "\n",
    "print(\"\\nColumn names:\")\n",
    "print(list(df_raw.columns))\n"
   ]
  },
  {
   "cell_type": "code",
   "execution_count": 4,
   "id": "adf3a60e",
   "metadata": {},
   "outputs": [
    {
     "name": "stdout",
     "output_type": "stream",
     "text": [
      "Cleaned columns preview:\n"
     ]
    },
    {
     "name": "stderr",
     "output_type": "stream",
     "text": [
      "C:\\Users\\Richi\\AppData\\Local\\Temp\\ipykernel_6924\\260457662.py:10: UserWarning: Parsing dates in %d/%m/%Y %H:%M format when dayfirst=False (the default) was specified. Pass `dayfirst=True` or specify a format to silence this warning.\n",
      "  df[date_col] = pd.to_datetime(df[date_col], errors=\"coerce\")\n"
     ]
    },
    {
     "data": {
      "text/html": [
       "<div>\n",
       "<style scoped>\n",
       "    .dataframe tbody tr th:only-of-type {\n",
       "        vertical-align: middle;\n",
       "    }\n",
       "\n",
       "    .dataframe tbody tr th {\n",
       "        vertical-align: top;\n",
       "    }\n",
       "\n",
       "    .dataframe thead th {\n",
       "        text-align: right;\n",
       "    }\n",
       "</style>\n",
       "<table border=\"1\" class=\"dataframe\">\n",
       "  <thead>\n",
       "    <tr style=\"text-align: right;\">\n",
       "      <th></th>\n",
       "      <th>time</th>\n",
       "      <th>Arrivals</th>\n",
       "      <th>MinutesPresent</th>\n",
       "      <th>Season</th>\n",
       "      <th>FoodAvailable</th>\n",
       "    </tr>\n",
       "  </thead>\n",
       "  <tbody>\n",
       "    <tr>\n",
       "      <th>0</th>\n",
       "      <td>2017-12-26 16:13:00</td>\n",
       "      <td>0</td>\n",
       "      <td>0.0</td>\n",
       "      <td>Summer</td>\n",
       "      <td>4.000000</td>\n",
       "    </tr>\n",
       "    <tr>\n",
       "      <th>1</th>\n",
       "      <td>2017-12-26 16:43:00</td>\n",
       "      <td>0</td>\n",
       "      <td>0.0</td>\n",
       "      <td>Summer</td>\n",
       "      <td>4.000000</td>\n",
       "    </tr>\n",
       "    <tr>\n",
       "      <th>2</th>\n",
       "      <td>2017-12-26 17:13:00</td>\n",
       "      <td>0</td>\n",
       "      <td>0.0</td>\n",
       "      <td>Summer</td>\n",
       "      <td>4.000000</td>\n",
       "    </tr>\n",
       "    <tr>\n",
       "      <th>3</th>\n",
       "      <td>2017-12-26 17:43:00</td>\n",
       "      <td>0</td>\n",
       "      <td>0.0</td>\n",
       "      <td>Summer</td>\n",
       "      <td>4.000000</td>\n",
       "    </tr>\n",
       "    <tr>\n",
       "      <th>4</th>\n",
       "      <td>2017-12-26 18:13:00</td>\n",
       "      <td>0</td>\n",
       "      <td>0.0</td>\n",
       "      <td>Summer</td>\n",
       "      <td>3.753857</td>\n",
       "    </tr>\n",
       "  </tbody>\n",
       "</table>\n",
       "</div>"
      ],
      "text/plain": [
       "                 time  Arrivals  MinutesPresent  Season  FoodAvailable\n",
       "0 2017-12-26 16:13:00         0             0.0  Summer       4.000000\n",
       "1 2017-12-26 16:43:00         0             0.0  Summer       4.000000\n",
       "2 2017-12-26 17:13:00         0             0.0  Summer       4.000000\n",
       "3 2017-12-26 17:43:00         0             0.0  Summer       4.000000\n",
       "4 2017-12-26 18:13:00         0             0.0  Summer       3.753857"
      ]
     },
     "metadata": {},
     "output_type": "display_data"
    }
   ],
   "source": [
    "\n",
    "df = df_raw.copy()\n",
    "\n",
    "# Try to detect common column names\n",
    "date_col   = find_col(df, [\"date\", \"datetime\", \"timestamp\", \"time\", \"trial_date\"])\n",
    "arr_col  = find_col(df, [\"rat_arrival_number\", \"arrivals\", \"rat_arrivals\", \"n_arrivals\", \"num_arrivals\", \"rat_count\"])\n",
    "mins_col = find_col(df, [\"rat_minutes\", \"minutes_present\", \"minutes\", \"mins_present\", \"duration_minutes\"])\n",
    "food_col = find_col(df, [\"food_availability\", \"food_available\", \"food_remaining\", \"food\", \"food_left\", \"food_avail\"], required=False)\n",
    "\n",
    "# Convert date to datetime\n",
    "df[date_col] = pd.to_datetime(df[date_col], errors=\"coerce\")\n",
    "if df[date_col].isna().all():\n",
    "    raise ValueError(f\"Could not parse any dates from column '{date_col}'. Please ensure it contains valid dates.\")\n",
    "\n",
    "# Create Season\n",
    "df[\"Season\"] = to_season(df[date_col])\n",
    "\n",
    "# Keep only relevant columns (when available)\n",
    "keep = [date_col, arr_col, mins_col, \"Season\"]\n",
    "if food_col is not None:\n",
    "    keep.append(food_col)\n",
    "df_small = df[keep].rename(columns={arr_col: \"Arrivals\", mins_col: \"MinutesPresent\"})\n",
    "if food_col is not None:\n",
    "    df_small = df_small.rename(columns={food_col: \"FoodAvailable\"})\n",
    "\n",
    "print(\"Cleaned columns preview:\")\n",
    "display(df_small.head())\n"
   ]
  },
  {
   "cell_type": "code",
   "execution_count": 5,
   "id": "fd6a39ba",
   "metadata": {},
   "outputs": [
    {
     "name": "stdout",
     "output_type": "stream",
     "text": [
      "Summary by season (counts, mean, std):\n"
     ]
    },
    {
     "name": "stderr",
     "output_type": "stream",
     "text": [
      "C:\\Users\\Richi\\AppData\\Local\\Temp\\ipykernel_6924\\3803235583.py:7: FutureWarning: The default of observed=False is deprecated and will be changed to True in a future version of pandas. Pass observed=False to retain current behavior or observed=True to adopt the future default and silence this warning.\n",
      "  season_summary = df_small.groupby(group_cols).agg(agg)\n"
     ]
    },
    {
     "data": {
      "text/html": [
       "<div>\n",
       "<style scoped>\n",
       "    .dataframe tbody tr th:only-of-type {\n",
       "        vertical-align: middle;\n",
       "    }\n",
       "\n",
       "    .dataframe tbody tr th {\n",
       "        vertical-align: top;\n",
       "    }\n",
       "\n",
       "    .dataframe thead tr th {\n",
       "        text-align: left;\n",
       "    }\n",
       "\n",
       "    .dataframe thead tr:last-of-type th {\n",
       "        text-align: right;\n",
       "    }\n",
       "</style>\n",
       "<table border=\"1\" class=\"dataframe\">\n",
       "  <thead>\n",
       "    <tr>\n",
       "      <th></th>\n",
       "      <th colspan=\"3\" halign=\"left\">Arrivals</th>\n",
       "      <th colspan=\"2\" halign=\"left\">MinutesPresent</th>\n",
       "      <th colspan=\"2\" halign=\"left\">FoodAvailable</th>\n",
       "    </tr>\n",
       "    <tr>\n",
       "      <th></th>\n",
       "      <th>count</th>\n",
       "      <th>mean</th>\n",
       "      <th>std</th>\n",
       "      <th>mean</th>\n",
       "      <th>std</th>\n",
       "      <th>mean</th>\n",
       "      <th>std</th>\n",
       "    </tr>\n",
       "    <tr>\n",
       "      <th>Season</th>\n",
       "      <th></th>\n",
       "      <th></th>\n",
       "      <th></th>\n",
       "      <th></th>\n",
       "      <th></th>\n",
       "      <th></th>\n",
       "      <th></th>\n",
       "    </tr>\n",
       "  </thead>\n",
       "  <tbody>\n",
       "    <tr>\n",
       "      <th>Summer</th>\n",
       "      <td>880</td>\n",
       "      <td>0.238636</td>\n",
       "      <td>0.918701</td>\n",
       "      <td>0.468750</td>\n",
       "      <td>1.670730</td>\n",
       "      <td>2.342955</td>\n",
       "      <td>1.351931</td>\n",
       "    </tr>\n",
       "    <tr>\n",
       "      <th>Autumn</th>\n",
       "      <td>1231</td>\n",
       "      <td>0.596263</td>\n",
       "      <td>1.064712</td>\n",
       "      <td>3.104549</td>\n",
       "      <td>8.642121</td>\n",
       "      <td>2.529199</td>\n",
       "      <td>1.107923</td>\n",
       "    </tr>\n",
       "    <tr>\n",
       "      <th>Winter</th>\n",
       "      <td>12</td>\n",
       "      <td>0.000000</td>\n",
       "      <td>0.000000</td>\n",
       "      <td>0.000000</td>\n",
       "      <td>0.000000</td>\n",
       "      <td>1.445554</td>\n",
       "      <td>0.572480</td>\n",
       "    </tr>\n",
       "    <tr>\n",
       "      <th>Spring</th>\n",
       "      <td>0</td>\n",
       "      <td>NaN</td>\n",
       "      <td>NaN</td>\n",
       "      <td>NaN</td>\n",
       "      <td>NaN</td>\n",
       "      <td>NaN</td>\n",
       "      <td>NaN</td>\n",
       "    </tr>\n",
       "    <tr>\n",
       "      <th>Unknown</th>\n",
       "      <td>0</td>\n",
       "      <td>NaN</td>\n",
       "      <td>NaN</td>\n",
       "      <td>NaN</td>\n",
       "      <td>NaN</td>\n",
       "      <td>NaN</td>\n",
       "      <td>NaN</td>\n",
       "    </tr>\n",
       "  </tbody>\n",
       "</table>\n",
       "</div>"
      ],
      "text/plain": [
       "        Arrivals                     MinutesPresent           FoodAvailable  \\\n",
       "           count      mean       std           mean       std          mean   \n",
       "Season                                                                        \n",
       "Summer       880  0.238636  0.918701       0.468750  1.670730      2.342955   \n",
       "Autumn      1231  0.596263  1.064712       3.104549  8.642121      2.529199   \n",
       "Winter        12  0.000000  0.000000       0.000000  0.000000      1.445554   \n",
       "Spring         0       NaN       NaN            NaN       NaN           NaN   \n",
       "Unknown        0       NaN       NaN            NaN       NaN           NaN   \n",
       "\n",
       "                   \n",
       "              std  \n",
       "Season             \n",
       "Summer   1.351931  \n",
       "Autumn   1.107923  \n",
       "Winter   0.572480  \n",
       "Spring        NaN  \n",
       "Unknown       NaN  "
      ]
     },
     "metadata": {},
     "output_type": "display_data"
    }
   ],
   "source": [
    "\n",
    "print(\"Summary by season (counts, mean, std):\")\n",
    "group_cols = [\"Season\"]\n",
    "agg = {\"Arrivals\": [\"count\", \"mean\", \"std\"], \"MinutesPresent\": [\"mean\", \"std\"]}\n",
    "if \"FoodAvailable\" in df_small.columns:\n",
    "    agg[\"FoodAvailable\"] = [\"mean\", \"std\"]\n",
    "\n",
    "season_summary = df_small.groupby(group_cols).agg(agg)\n",
    "display(season_summary)\n"
   ]
  },
  {
   "cell_type": "code",
   "execution_count": 6,
   "id": "15ff523d",
   "metadata": {},
   "outputs": [
    {
     "data": {
      "text/plain": [
       "<Figure size 640x480 with 0 Axes>"
      ]
     },
     "metadata": {},
     "output_type": "display_data"
    },
    {
     "data": {
      "image/png": "[encoded data removed]",
      "text/plain": [
       "<Figure size 640x480 with 1 Axes>"
      ]
     },
     "metadata": {},
     "output_type": "display_data"
    },
    {
     "data": {
      "text/plain": [
       "<Figure size 640x480 with 0 Axes>"
      ]
     },
     "metadata": {},
     "output_type": "display_data"
    },
    {
     "data": {
      "image/png": "[encoded data removed]",
      "text/plain": [
       "<Figure size 640x480 with 1 Axes>"
      ]
     },
     "metadata": {},
     "output_type": "display_data"
    },
    {
     "data": {
      "image/png": "[encoded data removed]",
      "text/plain": [
       "<Figure size 640x480 with 1 Axes>"
      ]
     },
     "metadata": {},
     "output_type": "display_data"
    }
   ],
   "source": [
    "\n",
    "# Arrivals by Season (boxplot)\n",
    "plt.figure()\n",
    "df_small.boxplot(column=\"Arrivals\", by=\"Season\")\n",
    "plt.title(\"Rat Arrivals by Season\")\n",
    "plt.suptitle(\"\")\n",
    "plt.xlabel(\"Season\")\n",
    "plt.ylabel(\"Arrivals\")\n",
    "plt.show()\n",
    "\n",
    "# Minutes Present by Season (boxplot)\n",
    "plt.figure()\n",
    "df_small.boxplot(column=\"MinutesPresent\", by=\"Season\")\n",
    "plt.title(\"Minutes Present by Season\")\n",
    "plt.suptitle(\"\")\n",
    "plt.xlabel(\"Season\")\n",
    "plt.ylabel(\"Minutes Present\")\n",
    "plt.show()\n",
    "\n",
    "# Scatter: Arrivals vs Food (if available)\n",
    "if \"FoodAvailable\" in df_small.columns:\n",
    "    plt.figure()\n",
    "    plt.scatter(df_small[\"Arrivals\"], df_small[\"FoodAvailable\"])\n",
    "    plt.title(\"Arrivals vs Food Available\")\n",
    "    plt.xlabel(\"Arrivals\")\n",
    "    plt.ylabel(\"Food Available\")\n",
    "    plt.show()\n"
   ]
  },
  {
   "cell_type": "code",
   "execution_count": 7,
   "id": "df03a505",
   "metadata": {},
   "outputs": [
    {
     "name": "stdout",
     "output_type": "stream",
     "text": [
      "Saved cleaned data to: C:\\Users\\Richi\\Downloads\\richie_rat_cleaned.csv\n"
     ]
    }
   ],
   "source": [
    "\n",
    "# Optional: Save the cleaned subset for your report\n",
    "out_path = Path(\"richie_rat_cleaned.csv\")\n",
    "df_small.to_csv(out_path, index=False)\n",
    "print(f\"Saved cleaned data to: {out_path.resolve()}\")\n"
   ]
  },
  {
   "cell_type": "code",
   "execution_count": 8,
   "id": "aab6d01a",
   "metadata": {},
   "outputs": [
    {
     "name": "stdout",
     "output_type": "stream",
     "text": [
      "Winter vs Spring Summary:\n"
     ]
    },
    {
     "name": "stderr",
     "output_type": "stream",
     "text": [
      "C:\\Users\\Richi\\AppData\\Local\\Temp\\ipykernel_6924\\1120547397.py:8: FutureWarning: The default of observed=False is deprecated and will be changed to True in a future version of pandas. Pass observed=False to retain current behavior or observed=True to adopt the future default and silence this warning.\n",
      "  ws_summary = winter_spring.groupby(\"Season\").agg({\n"
     ]
    },
    {
     "data": {
      "text/html": [
       "<div>\n",
       "<style scoped>\n",
       "    .dataframe tbody tr th:only-of-type {\n",
       "        vertical-align: middle;\n",
       "    }\n",
       "\n",
       "    .dataframe tbody tr th {\n",
       "        vertical-align: top;\n",
       "    }\n",
       "\n",
       "    .dataframe thead tr th {\n",
       "        text-align: left;\n",
       "    }\n",
       "\n",
       "    .dataframe thead tr:last-of-type th {\n",
       "        text-align: right;\n",
       "    }\n",
       "</style>\n",
       "<table border=\"1\" class=\"dataframe\">\n",
       "  <thead>\n",
       "    <tr>\n",
       "      <th></th>\n",
       "      <th colspan=\"3\" halign=\"left\">Arrivals</th>\n",
       "      <th colspan=\"2\" halign=\"left\">MinutesPresent</th>\n",
       "      <th colspan=\"2\" halign=\"left\">FoodAvailable</th>\n",
       "    </tr>\n",
       "    <tr>\n",
       "      <th></th>\n",
       "      <th>count</th>\n",
       "      <th>mean</th>\n",
       "      <th>std</th>\n",
       "      <th>mean</th>\n",
       "      <th>std</th>\n",
       "      <th>mean</th>\n",
       "      <th>std</th>\n",
       "    </tr>\n",
       "    <tr>\n",
       "      <th>Season</th>\n",
       "      <th></th>\n",
       "      <th></th>\n",
       "      <th></th>\n",
       "      <th></th>\n",
       "      <th></th>\n",
       "      <th></th>\n",
       "      <th></th>\n",
       "    </tr>\n",
       "  </thead>\n",
       "  <tbody>\n",
       "    <tr>\n",
       "      <th>Summer</th>\n",
       "      <td>0</td>\n",
       "      <td>NaN</td>\n",
       "      <td>NaN</td>\n",
       "      <td>NaN</td>\n",
       "      <td>NaN</td>\n",
       "      <td>NaN</td>\n",
       "      <td>NaN</td>\n",
       "    </tr>\n",
       "    <tr>\n",
       "      <th>Autumn</th>\n",
       "      <td>0</td>\n",
       "      <td>NaN</td>\n",
       "      <td>NaN</td>\n",
       "      <td>NaN</td>\n",
       "      <td>NaN</td>\n",
       "      <td>NaN</td>\n",
       "      <td>NaN</td>\n",
       "    </tr>\n",
       "    <tr>\n",
       "      <th>Winter</th>\n",
       "      <td>12</td>\n",
       "      <td>0.0</td>\n",
       "      <td>0.0</td>\n",
       "      <td>0.0</td>\n",
       "      <td>0.0</td>\n",
       "      <td>1.445554</td>\n",
       "      <td>0.57248</td>\n",
       "    </tr>\n",
       "    <tr>\n",
       "      <th>Spring</th>\n",
       "      <td>0</td>\n",
       "      <td>NaN</td>\n",
       "      <td>NaN</td>\n",
       "      <td>NaN</td>\n",
       "      <td>NaN</td>\n",
       "      <td>NaN</td>\n",
       "      <td>NaN</td>\n",
       "    </tr>\n",
       "    <tr>\n",
       "      <th>Unknown</th>\n",
       "      <td>0</td>\n",
       "      <td>NaN</td>\n",
       "      <td>NaN</td>\n",
       "      <td>NaN</td>\n",
       "      <td>NaN</td>\n",
       "      <td>NaN</td>\n",
       "      <td>NaN</td>\n",
       "    </tr>\n",
       "  </tbody>\n",
       "</table>\n",
       "</div>"
      ],
      "text/plain": [
       "        Arrivals           MinutesPresent      FoodAvailable         \n",
       "           count mean  std           mean  std          mean      std\n",
       "Season                                                               \n",
       "Summer         0  NaN  NaN            NaN  NaN           NaN      NaN\n",
       "Autumn         0  NaN  NaN            NaN  NaN           NaN      NaN\n",
       "Winter        12  0.0  0.0            0.0  0.0      1.445554  0.57248\n",
       "Spring         0  NaN  NaN            NaN  NaN           NaN      NaN\n",
       "Unknown        0  NaN  NaN            NaN  NaN           NaN      NaN"
      ]
     },
     "metadata": {},
     "output_type": "display_data"
    },
    {
     "data": {
      "text/plain": [
       "<Figure size 640x480 with 0 Axes>"
      ]
     },
     "metadata": {},
     "output_type": "display_data"
    },
    {
     "data": {
      "image/png": "[encoded data removed]",
      "text/plain": [
       "<Figure size 640x480 with 1 Axes>"
      ]
     },
     "metadata": {},
     "output_type": "display_data"
    },
    {
     "data": {
      "text/plain": [
       "<Figure size 640x480 with 0 Axes>"
      ]
     },
     "metadata": {},
     "output_type": "display_data"
    },
    {
     "data": {
      "image/png": "[encoded data removed]",
      "text/plain": [
       "<Figure size 640x480 with 1 Axes>"
      ]
     },
     "metadata": {},
     "output_type": "display_data"
    }
   ],
   "source": [
    "# --- Investigation Focus: Winter vs Spring only (as per project brief) ---\n",
    "\n",
    "# Filter data for only Winter and Spring\n",
    "winter_spring = df_small[df_small[\"Season\"].isin([\"Winter\", \"Spring\"])]\n",
    "\n",
    "# Display summary statistics for these two seasons\n",
    "print(\"Winter vs Spring Summary:\")\n",
    "ws_summary = winter_spring.groupby(\"Season\").agg({\n",
    "    \"Arrivals\": [\"count\", \"mean\", \"std\"],\n",
    "    \"MinutesPresent\": [\"mean\", \"std\"],\n",
    "    \"FoodAvailable\": [\"mean\", \"std\"]\n",
    "})\n",
    "display(ws_summary)\n",
    "\n",
    "# Optional: boxplot for visual comparison\n",
    "import matplotlib.pyplot as plt\n",
    "\n",
    "plt.figure()\n",
    "winter_spring.boxplot(column=\"Arrivals\", by=\"Season\")\n",
    "plt.title(\"Rat Arrivals — Winter vs Spring\")\n",
    "plt.suptitle(\"\")\n",
    "plt.xlabel(\"Season\")\n",
    "plt.ylabel(\"Arrivals\")\n",
    "plt.show()\n",
    "\n",
    "plt.figure()\n",
    "winter_spring.boxplot(column=\"MinutesPresent\", by=\"Season\")\n",
    "plt.title(\"Minutes Present — Winter vs Spring\")\n",
    "plt.suptitle(\"\")\n",
    "plt.xlabel(\"Season\")\n",
    "plt.ylabel(\"Minutes Present\")\n",
    "plt.show()\n"
   ]
  },
  {
   "cell_type": "code",
   "execution_count": null,
   "id": "0eafc919",
   "metadata": {},
   "outputs": [],
   "source": []
  }
 ],
 "metadata": {
  "kernelspec": {
   "display_name": "base",
   "language": "python",
   "name": "python3"
  },
  "language_info": {
   "codemirror_mode": {
    "name": "ipython",
    "version": 3
   },
   "file_extension": ".py",
   "mimetype": "text/x-python",
   "name": "python",
   "nbconvert_exporter": "python",
   "pygments_lexer": "ipython3",
   "version": "3.12.11"
  }
 },
 "nbformat": 4,
 "nbformat_minor": 5
}
