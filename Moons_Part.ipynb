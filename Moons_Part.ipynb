{
 "cells": [
  {
   "cell_type": "code",
   "execution_count": 10,
   "id": "3460a551",
   "metadata": {},
   "outputs": [],
   "source": [
    "import pandas as pd\n",
    "import numpy as np\n",
    "import matplotlib.pyplot as plt\n",
    "import seaborn as sns\n",
    "import statsmodels.api as sm\n",
    "\n",
    "pd.set_option(\"display.max_columns\", 50)"
   ]
  },
  {
   "cell_type": "code",
   "execution_count": 11,
   "id": "3223b6ca",
   "metadata": {},
   "outputs": [
    {
     "name": "stdout",
     "output_type": "stream",
     "text": [
      "Loaded rows: 907\n"
     ]
    },
    {
     "data": {
      "text/html": [
       "<div>\n",
       "<style scoped>\n",
       "    .dataframe tbody tr th:only-of-type {\n",
       "        vertical-align: middle;\n",
       "    }\n",
       "\n",
       "    .dataframe tbody tr th {\n",
       "        vertical-align: top;\n",
       "    }\n",
       "\n",
       "    .dataframe thead th {\n",
       "        text-align: right;\n",
       "    }\n",
       "</style>\n",
       "<table border=\"1\" class=\"dataframe\">\n",
       "  <thead>\n",
       "    <tr style=\"text-align: right;\">\n",
       "      <th></th>\n",
       "      <th>start_time</th>\n",
       "      <th>bat_landing_to_food</th>\n",
       "      <th>habit</th>\n",
       "      <th>rat_period_start</th>\n",
       "      <th>rat_period_end</th>\n",
       "      <th>seconds_after_rat_arrival</th>\n",
       "      <th>risk</th>\n",
       "      <th>reward</th>\n",
       "      <th>month</th>\n",
       "      <th>sunset_time</th>\n",
       "      <th>hours_after_sunset</th>\n",
       "      <th>season</th>\n",
       "    </tr>\n",
       "  </thead>\n",
       "  <tbody>\n",
       "    <tr>\n",
       "      <th>0</th>\n",
       "      <td>2017-12-30 18:37:00</td>\n",
       "      <td>16.000000</td>\n",
       "      <td>rat</td>\n",
       "      <td>30/12/2017 18:35</td>\n",
       "      <td>30/12/2017 18:38</td>\n",
       "      <td>108</td>\n",
       "      <td>1</td>\n",
       "      <td>0</td>\n",
       "      <td>12</td>\n",
       "      <td>30/12/2017 16:45</td>\n",
       "      <td>1.870833</td>\n",
       "      <td>0</td>\n",
       "    </tr>\n",
       "    <tr>\n",
       "      <th>1</th>\n",
       "      <td>2017-12-30 19:51:00</td>\n",
       "      <td>0.074016</td>\n",
       "      <td>fast</td>\n",
       "      <td>30/12/2017 19:50</td>\n",
       "      <td>30/12/2017 19:55</td>\n",
       "      <td>17</td>\n",
       "      <td>0</td>\n",
       "      <td>1</td>\n",
       "      <td>12</td>\n",
       "      <td>30/12/2017 16:45</td>\n",
       "      <td>3.100833</td>\n",
       "      <td>0</td>\n",
       "    </tr>\n",
       "    <tr>\n",
       "      <th>2</th>\n",
       "      <td>2017-12-30 19:51:00</td>\n",
       "      <td>4.000000</td>\n",
       "      <td>fast</td>\n",
       "      <td>30/12/2017 19:50</td>\n",
       "      <td>30/12/2017 19:55</td>\n",
       "      <td>41</td>\n",
       "      <td>0</td>\n",
       "      <td>1</td>\n",
       "      <td>12</td>\n",
       "      <td>30/12/2017 16:45</td>\n",
       "      <td>3.107500</td>\n",
       "      <td>0</td>\n",
       "    </tr>\n",
       "  </tbody>\n",
       "</table>\n",
       "</div>"
      ],
      "text/plain": [
       "           start_time  bat_landing_to_food habit  rat_period_start  \\\n",
       "0 2017-12-30 18:37:00            16.000000   rat  30/12/2017 18:35   \n",
       "1 2017-12-30 19:51:00             0.074016  fast  30/12/2017 19:50   \n",
       "2 2017-12-30 19:51:00             4.000000  fast  30/12/2017 19:50   \n",
       "\n",
       "     rat_period_end  seconds_after_rat_arrival  risk  reward  month  \\\n",
       "0  30/12/2017 18:38                        108     1       0     12   \n",
       "1  30/12/2017 19:55                         17     0       1     12   \n",
       "2  30/12/2017 19:55                         41     0       1     12   \n",
       "\n",
       "        sunset_time  hours_after_sunset  season  \n",
       "0  30/12/2017 16:45            1.870833       0  \n",
       "1  30/12/2017 16:45            3.100833       0  \n",
       "2  30/12/2017 16:45            3.107500       0  "
      ]
     },
     "metadata": {},
     "output_type": "display_data"
    }
   ],
   "source": [
    "d1 = pd.read_csv(\"dataset1.csv\")\n",
    "\n",
    "d1[\"start_time\"] = pd.to_datetime(d1.get(\"start_time\"), errors=\"coerce\", dayfirst=True)\n",
    "d1[\"month\"] = d1[\"start_time\"].dt.month\n",
    "\n",
    "print(\"Loaded rows:\", len(d1))\n",
    "display(d1.head(3))\n"
   ]
  },
  {
   "cell_type": "code",
   "execution_count": 12,
   "id": "25bfd044",
   "metadata": {},
   "outputs": [
    {
     "name": "stdout",
     "output_type": "stream",
     "text": [
      "Season counts (initial): {nan: 907}\n",
      "⚠ Fallback applied. New counts: {'winter': 881, 'spring': 26}\n"
     ]
    }
   ],
   "source": [
    "def make_season_from_month(m):\n",
    "    if pd.isna(m):\n",
    "        return np.nan\n",
    "    if m in [6, 7, 8]:\n",
    "        return \"winter\"\n",
    "    if m in [9, 10, 11]:\n",
    "        return \"spring\"\n",
    "    return np.nan  \n",
    "\n",
    "d1[\"season_bat\"] = d1[\"month\"].apply(make_season_from_month)\n",
    "\n",
    "season_counts = d1[\"season_bat\"].value_counts(dropna=False)\n",
    "print(\"Season counts (initial):\", season_counts.to_dict())\n",
    "\n",
    "if season_counts.get(\"winter\", 0) < 5 or season_counts.get(\"spring\", 0) < 5:\n",
    "    \n",
    "    def half_year(m):\n",
    "        if pd.isna(m): \n",
    "            return np.nan\n",
    "        return \"winter\" if m in [1,2,3,4,5,6] else \"spring\"\n",
    "    d1[\"season_bat\"] = d1[\"month\"].apply(half_year)\n",
    "    season_counts = d1[\"season_bat\"].value_counts(dropna=False)\n",
    "    print(\"⚠ Fallback applied. New counts:\", season_counts.to_dict())"
   ]
  },
  {
   "cell_type": "code",
   "execution_count": 13,
   "id": "480ba071",
   "metadata": {},
   "outputs": [
    {
     "name": "stdout",
     "output_type": "stream",
     "text": [
      "Rows available for analysis: 907\n",
      "\n",
      "Counts by season:\n",
      "season_bat\n",
      "winter    881\n",
      "spring     26\n",
      "Name: count, dtype: int64\n",
      "\n",
      "Descriptive stats by season:\n"
     ]
    },
    {
     "data": {
      "text/html": [
       "<div>\n",
       "<style scoped>\n",
       "    .dataframe tbody tr th:only-of-type {\n",
       "        vertical-align: middle;\n",
       "    }\n",
       "\n",
       "    .dataframe tbody tr th {\n",
       "        vertical-align: top;\n",
       "    }\n",
       "\n",
       "    .dataframe thead th {\n",
       "        text-align: right;\n",
       "    }\n",
       "</style>\n",
       "<table border=\"1\" class=\"dataframe\">\n",
       "  <thead>\n",
       "    <tr style=\"text-align: right;\">\n",
       "      <th></th>\n",
       "      <th>count</th>\n",
       "      <th>mean</th>\n",
       "      <th>std</th>\n",
       "      <th>min</th>\n",
       "      <th>25%</th>\n",
       "      <th>50%</th>\n",
       "      <th>75%</th>\n",
       "      <th>max</th>\n",
       "    </tr>\n",
       "    <tr>\n",
       "      <th>season_bat</th>\n",
       "      <th></th>\n",
       "      <th></th>\n",
       "      <th></th>\n",
       "      <th></th>\n",
       "      <th></th>\n",
       "      <th></th>\n",
       "      <th></th>\n",
       "      <th></th>\n",
       "    </tr>\n",
       "  </thead>\n",
       "  <tbody>\n",
       "    <tr>\n",
       "      <th>spring</th>\n",
       "      <td>26.0</td>\n",
       "      <td>8.233616</td>\n",
       "      <td>7.892787</td>\n",
       "      <td>0.074016</td>\n",
       "      <td>2.0</td>\n",
       "      <td>5.0</td>\n",
       "      <td>14.5</td>\n",
       "      <td>26.0</td>\n",
       "    </tr>\n",
       "    <tr>\n",
       "      <th>winter</th>\n",
       "      <td>881.0</td>\n",
       "      <td>11.815821</td>\n",
       "      <td>28.011683</td>\n",
       "      <td>0.010238</td>\n",
       "      <td>1.0</td>\n",
       "      <td>4.0</td>\n",
       "      <td>11.0</td>\n",
       "      <td>443.0</td>\n",
       "    </tr>\n",
       "  </tbody>\n",
       "</table>\n",
       "</div>"
      ],
      "text/plain": [
       "            count       mean        std       min  25%  50%   75%    max\n",
       "season_bat                                                              \n",
       "spring       26.0   8.233616   7.892787  0.074016  2.0  5.0  14.5   26.0\n",
       "winter      881.0  11.815821  28.011683  0.010238  1.0  4.0  11.0  443.0"
      ]
     },
     "metadata": {},
     "output_type": "display_data"
    }
   ],
   "source": [
    "hes_col = \"bat_landing_to_food\"\n",
    "if hes_col not in d1.columns:\n",
    "    raise KeyError(f\"Expected hesitation column '{hes_col}' not found in dataset1.csv\")\n",
    "\n",
    "bat_df = d1[[\"start_time\", hes_col, \"season_bat\"]].copy()\n",
    "bat_df[hes_col] = pd.to_numeric(bat_df[hes_col], errors=\"coerce\")\n",
    "bat_df = bat_df.dropna(subset=[hes_col, \"season_bat\"]).reset_index(drop=True)\n",
    "\n",
    "print(\"Rows available for analysis:\", len(bat_df))\n",
    "print(\"\\nCounts by season:\")\n",
    "print(bat_df[\"season_bat\"].value_counts())\n",
    "\n",
    "print(\"\\nDescriptive stats by season:\")\n",
    "display(bat_df.groupby(\"season_bat\")[hes_col].describe())"
   ]
  },
  {
   "cell_type": "code",
   "execution_count": 14,
   "id": "8e13a048",
   "metadata": {},
   "outputs": [
    {
     "data": {
      "image/png": "[encoded data removed]",
      "text/plain": [
       "<Figure size 800x500 with 1 Axes>"
      ]
     },
     "metadata": {},
     "output_type": "display_data"
    }
   ],
   "source": [
    "plt.figure(figsize=(8,5))\n",
    "sns.boxplot(data=bat_df, x=\"season_bat\", y=hes_col)\n",
    "plt.title(\"Hesitation (landing-to-food) by season (winter vs spring)\")\n",
    "plt.xlabel(\"Season\")\n",
    "plt.ylabel(\"Landing-to-food time (seconds)\")\n",
    "plt.tight_layout()\n",
    "plt.savefig(\"B_boxplot_hesitation_by_season.png\", dpi=150)\n",
    "plt.show()"
   ]
  },
  {
   "cell_type": "code",
   "execution_count": 15,
   "id": "7a296607",
   "metadata": {},
   "outputs": [
    {
     "data": {
      "image/png": "[encoded data removed]",
      "text/plain": [
       "<Figure size 900x500 with 1 Axes>"
      ]
     },
     "metadata": {},
     "output_type": "display_data"
    }
   ],
   "source": [
    "plt.figure(figsize=(9,5))\n",
    "for s in [\"winter\", \"spring\"]:\n",
    "    vals = bat_df.loc[bat_df[\"season_bat\"]==s, hes_col].dropna()\n",
    "    if len(vals):\n",
    "        plt.hist(vals, bins=30, histtype=\"step\", linewidth=1.6, label=s)\n",
    "plt.title(\"Distribution of Bat Hesitation Times (winter vs spring)\")\n",
    "plt.xlabel(\"Landing to Food Time (seconds)\")\n",
    "plt.ylabel(\"Frequency\")\n",
    "plt.legend(title=\"Season\")\n",
    "plt.tight_layout()\n",
    "plt.savefig(\"B_hist_hesitation_distribution.png\", dpi=150)\n",
    "plt.show()"
   ]
  },
  {
   "cell_type": "code",
   "execution_count": 16,
   "id": "3736f4fa",
   "metadata": {},
   "outputs": [
    {
     "name": "stdout",
     "output_type": "stream",
     "text": [
      "Rows used in regression: 907\n",
      "                             OLS Regression Results                            \n",
      "===============================================================================\n",
      "Dep. Variable:     bat_landing_to_food   R-squared:                       0.000\n",
      "Model:                             OLS   Adj. R-squared:                 -0.001\n",
      "Method:                  Least Squares   F-statistic:                    0.4238\n",
      "Date:                 Thu, 16 Oct 2025   Prob (F-statistic):              0.515\n",
      "Time:                         04:39:14   Log-Likelihood:                -4297.0\n",
      "No. Observations:                  907   AIC:                             8598.\n",
      "Df Residuals:                      905   BIC:                             8608.\n",
      "Df Model:                            1                                         \n",
      "Covariance Type:             nonrobust                                         \n",
      "================================================================================\n",
      "                   coef    std err          t      P>|t|      [0.025      0.975]\n",
      "--------------------------------------------------------------------------------\n",
      "const           11.8158      0.932     12.683      0.000       9.987      13.644\n",
      "season_dummy    -3.5822      5.503     -0.651      0.515     -14.382       7.217\n",
      "==============================================================================\n",
      "Omnibus:                     1267.892   Durbin-Watson:                   1.935\n",
      "Prob(Omnibus):                  0.000   Jarque-Bera (JB):           289035.649\n",
      "Skew:                           7.662   Prob(JB):                         0.00\n",
      "Kurtosis:                      89.101   Cond. No.                         6.00\n",
      "==============================================================================\n",
      "\n",
      "Notes:\n",
      "[1] Standard Errors assume that the covariance matrix of the errors is correctly specified.\n"
     ]
    }
   ],
   "source": [
    "if bat_df.empty:\n",
    "    print(\"No rows available for regression. Fix earlier steps.\")\n",
    "else:\n",
    "    model_df = bat_df.copy()\n",
    "    model_df[\"season_dummy\"] = model_df[\"season_bat\"].map({\"winter\":0, \"spring\":1})\n",
    "    model_df = model_df.dropna(subset=[\"bat_landing_to_food\",\"season_dummy\"])\n",
    "    print(\"Rows used in regression:\", len(model_df))\n",
    "\n",
    "    if len(model_df) < 10:\n",
    "        print(\"⚠️ Very few rows; regression will still run but interpret cautiously.\")\n",
    "\n",
    "    y = model_df[\"bat_landing_to_food\"]\n",
    "    X = sm.add_constant(model_df[[\"season_dummy\"]])\n",
    "\n",
    "    model = sm.OLS(y, X).fit()\n",
    "    print(model.summary())"
   ]
  },
  {
   "cell_type": "code",
   "execution_count": 17,
   "id": "1aff8d1a",
   "metadata": {},
   "outputs": [
    {
     "name": "stdout",
     "output_type": "stream",
     "text": [
      "Rows used in regression: 907\n",
      "                             OLS Regression Results                            \n",
      "===============================================================================\n",
      "Dep. Variable:     bat_landing_to_food   R-squared:                       0.000\n",
      "Model:                             OLS   Adj. R-squared:                 -0.001\n",
      "Method:                  Least Squares   F-statistic:                    0.4238\n",
      "Date:                 Thu, 16 Oct 2025   Prob (F-statistic):              0.515\n",
      "Time:                         04:39:14   Log-Likelihood:                -4297.0\n",
      "No. Observations:                  907   AIC:                             8598.\n",
      "Df Residuals:                      905   BIC:                             8608.\n",
      "Df Model:                            1                                         \n",
      "Covariance Type:             nonrobust                                         \n",
      "================================================================================\n",
      "                   coef    std err          t      P>|t|      [0.025      0.975]\n",
      "--------------------------------------------------------------------------------\n",
      "const           11.8158      0.932     12.683      0.000       9.987      13.644\n",
      "season_dummy    -3.5822      5.503     -0.651      0.515     -14.382       7.217\n",
      "==============================================================================\n",
      "Omnibus:                     1267.892   Durbin-Watson:                   1.935\n",
      "Prob(Omnibus):                  0.000   Jarque-Bera (JB):           289035.649\n",
      "Skew:                           7.662   Prob(JB):                         0.00\n",
      "Kurtosis:                      89.101   Cond. No.                         6.00\n",
      "==============================================================================\n",
      "\n",
      "Notes:\n",
      "[1] Standard Errors assume that the covariance matrix of the errors is correctly specified.\n"
     ]
    }
   ],
   "source": [
    "bat_df[\"season_dummy\"] = bat_df[\"season_bat\"].map({\"winter\": 0, \"spring\": 1}).astype(\"float\")\n",
    "\n",
    "y = bat_df[hes_col]\n",
    "X = sm.add_constant(bat_df[[\"season_dummy\"]])\n",
    "\n",
    "print(f\"Rows used in regression: {len(X)}\")\n",
    "model = sm.OLS(y, X).fit()\n",
    "print(model.summary())"
   ]
  },
  {
   "cell_type": "code",
   "execution_count": 18,
   "id": "a6ecc61f",
   "metadata": {},
   "outputs": [
    {
     "name": "stdout",
     "output_type": "stream",
     "text": [
      "Saved: B_bat_seasonal_analysis_table.csv\n"
     ]
    }
   ],
   "source": [
    "bat_df.to_csv(\"B_bat_seasonal_analysis_table.csv\", index=False)\n",
    "print(\"Saved: B_bat_seasonal_analysis_table.csv\")"
   ]
  }
 ],
 "metadata": {
  "kernelspec": {
   "display_name": "Python 3",
   "language": "python",
   "name": "python3"
  },
  "language_info": {
   "codemirror_mode": {
    "name": "ipython",
    "version": 3
   },
   "file_extension": ".py",
   "mimetype": "text/x-python",
   "name": "python",
   "nbconvert_exporter": "python",
   "pygments_lexer": "ipython3",
   "version": "3.11.9"
  }
 },
 "nbformat": 4,
 "nbformat_minor": 5
}
